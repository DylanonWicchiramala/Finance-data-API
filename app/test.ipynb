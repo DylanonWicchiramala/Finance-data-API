{
 "cells": [
  {
   "cell_type": "code",
   "execution_count": 5,
   "metadata": {},
   "outputs": [],
   "source": [
    "from typing import Any\n",
    "import requests\n",
    "import json\n",
    "from ratelimit import limits, sleep_and_retry\n",
    "import pandas as pd\n",
    "from datetime import datetime\n",
    "import requests\n",
    "import json\n",
    "\n",
    "# @sleep_and_retry\n",
    "@limits(calls=10, period=1.05)\n",
    "def request_get(url, *args,**kwargs):\n",
    "    headers = {'User-agent': 'Mozilla/5.0'}\n",
    "    return requests.get(url, headers = headers, *args, **kwargs)"
   ]
  },
  {
   "cell_type": "code",
   "execution_count": 6,
   "metadata": {},
   "outputs": [],
   "source": [
    "def convert_to_list_dict(dict_of_lists:dict[str: list[Any]]) -> list[dict[str: Any]]:\n",
    "    # Get all the keys from the dictionary\n",
    "    keys = list(dict_of_lists.keys())\n",
    "    \n",
    "    # Use zip to combine corresponding elements from all lists\n",
    "    zipped_values = zip(*[dict_of_lists[key] for key in keys])\n",
    "    \n",
    "    # Convert the zipped values to a list of dictionaries\n",
    "    result = [dict(zip(keys, values)) for values in zipped_values]\n",
    "    \n",
    "    return result"
   ]
  },
  {
   "cell_type": "code",
   "execution_count": 37,
   "metadata": {},
   "outputs": [],
   "source": [
    "def submissions_form_transform(submissions_form:list[dict[str: Any]]) -> list[dict[str: Any]]:\n",
    "    for i in range(len(submissions_form)):\n",
    "        submissions_form[i] = {\n",
    "            'accession_number': submissions_form[i]['accessionNumber'],\n",
    "            'cik': submissions_form[i]['cik'],\n",
    "            'filing_date': submissions_form[i]['filingDate'],\n",
    "            'report_date': submissions_form[i]['reportDate'],\n",
    "            'acceptance_date_time': submissions_form[i]['acceptanceDateTime'],\n",
    "            'act': submissions_form[i]['act'],\n",
    "            'form': submissions_form[i]['form'],\n",
    "            'file_number': submissions_form[i]['fileNumber'],\n",
    "            'film_number': submissions_form[i]['filmNumber'],\n",
    "            'items': submissions_form[i]['items'],\n",
    "            'size': submissions_form[i]['size'],\n",
    "            'is_xbrl': submissions_form[i]['isXBRL'],\n",
    "            'is_inline_xbrl': submissions_form[i]['isInlineXBRL'],\n",
    "            'primary_docment': submissions_form[i]['primaryDocument'],\n",
    "            'primary_doc_description': submissions_form[i]['primaryDocDescription']\n",
    "        }\n",
    "    return submissions_form    \n",
    "\n",
    "\n",
    "def get_submissions_form(\n",
    "        cik:str|int, \n",
    "        get_older_files:bool|int=False, \n",
    "        save_path:str=None) -> dict[str, list]:\n",
    "    \"\"\" get document summissions for the ticker from https://data.sec.gov/submissions\n",
    "    parameters:\n",
    "        cik: str\n",
    "        get_older_files: bool\n",
    "            getting olders submissions that older than 5 years old.\n",
    "    \"\"\"    \n",
    "    def __concat_submission(dict1, dict2):\n",
    "        out_dict = {}\n",
    "        \n",
    "        #concat dict\n",
    "        for key in dict2.keys():\n",
    "            # Concatenate the lists if the key is present in both dictionaries\n",
    "            out_dict[key] = dict1.get(key, []) + dict2.get(key, [])\n",
    "            \n",
    "        return out_dict\n",
    "    \n",
    "    def __get_submission_meta(cik:str|int) -> dict[str, list]:\n",
    "        \"\"\" returns dictionary of submission metadata.\n",
    "        \"\"\"\n",
    "        \n",
    "        cik = str(cik).zfill(10)\n",
    "\n",
    "        # get the metadata of the submissions.\n",
    "        meta = request_get(base_url + f\"CIK{cik}.json\").json()\n",
    "        \n",
    "        return meta\n",
    "    \n",
    "    base_url = \"https://data.sec.gov/submissions/\"\n",
    "    \n",
    "    filings = __get_submission_meta(cik=cik)['filings']\n",
    "    submissions = {}\n",
    "\n",
    "    # get the recent submission files.\n",
    "    submissions = filings['recent']\n",
    "\n",
    "    # get the older submission files.\n",
    "    if 'files' in filings.keys() and get_older_files:\n",
    "        older_file_meta = filings['files']\n",
    "        for i in range(len(older_file_meta)):\n",
    "            sub = request_get(base_url + older_file_meta['name']).json()\n",
    "            submissions = __concat_submission(submissions, sub)\n",
    "            \n",
    "    sub_df = pd.DataFrame(submissions)\n",
    "    \n",
    "    # filter the form submission.\n",
    "    sub_df = dict(sub_df[sub_df['form'].isin(['10-Q', '10-K', '10-K/A', '10-Q/A'])])\n",
    "\n",
    "    submissions = dict(sub_df)\n",
    "    \n",
    "    # casting panda series to list\n",
    "    submissions = {k:list(v) for k,v in submissions.items()}\n",
    "    \n",
    "    # adding cik\n",
    "    submissions['cik'] = [int(cik)]* len(sub_df)\n",
    "\n",
    "    #save to cache json data\n",
    "    if save_path is not None:\n",
    "        with open(save_path, 'w') as json_file:\n",
    "            json.dump(submissions, json_file, indent=4)\n",
    "    \n",
    "    submissions = convert_to_list_dict(submissions)\n",
    "    submissions = submissions_form_transform(submissions)\n",
    "    \n",
    "    return submissions"
   ]
  },
  {
   "cell_type": "code",
   "execution_count": 38,
   "metadata": {},
   "outputs": [
    {
     "name": "stderr",
     "output_type": "stream",
     "text": [
      "DEBUG:urllib3.connectionpool:Starting new HTTPS connection (1): data.sec.gov:443\n",
      "DEBUG:urllib3.connectionpool:https://data.sec.gov:443 \"GET /submissions/CIK0001015820.json HTTP/1.1\" 200 14836\n"
     ]
    },
    {
     "name": "stdout",
     "output_type": "stream",
     "text": [
      "{'accessionNumber': Series([], Name: accessionNumber, dtype: object), 'filingDate': Series([], Name: filingDate, dtype: object), 'reportDate': Series([], Name: reportDate, dtype: object), 'acceptanceDateTime': Series([], Name: acceptanceDateTime, dtype: object), 'act': Series([], Name: act, dtype: object), 'form': Series([], Name: form, dtype: object), 'fileNumber': Series([], Name: fileNumber, dtype: object), 'filmNumber': Series([], Name: filmNumber, dtype: object), 'items': Series([], Name: items, dtype: object), 'size': Series([], Name: size, dtype: int64), 'isXBRL': Series([], Name: isXBRL, dtype: int64), 'isInlineXBRL': Series([], Name: isInlineXBRL, dtype: int64), 'primaryDocument': Series([], Name: primaryDocument, dtype: object), 'primaryDocDescription': Series([], Name: primaryDocDescription, dtype: object)}\n"
     ]
    },
    {
     "data": {
      "text/plain": [
       "[]"
      ]
     },
     "execution_count": 38,
     "metadata": {},
     "output_type": "execute_result"
    }
   ],
   "source": [
    "get_submissions_form(1015820)"
   ]
  },
  {
   "cell_type": "code",
   "execution_count": 9,
   "metadata": {},
   "outputs": [],
   "source": [
    "import os\n",
    "import sqlite3\n",
    "\n",
    "connection = sqlite3.connect('test.db')\n",
    "cursor = connection.cursor()"
   ]
  },
  {
   "cell_type": "code",
   "execution_count": 10,
   "metadata": {},
   "outputs": [],
   "source": [
    "schemasubmissionForm = \"\"\"submissionForm(\n",
    "  accession_number INT(15) PRIMARY KEY NOT NULL,\n",
    "  cik INT(10),\n",
    "  filing_date DATE,\n",
    "  report_date DATE,\n",
    "  acceptance_date_time DATETIME,\n",
    "  act STRING,\n",
    "  form STRING,\n",
    "  file_number STRING,\n",
    "  film_number STRING,\n",
    "  items INT,\n",
    "  size INT,\n",
    "  is_xbrl INT,\n",
    "  is_inline_xbrl INT,\n",
    "  primary_docment STRING,\n",
    "  primary_doc_description STRING\n",
    ")\"\"\""
   ]
  },
  {
   "cell_type": "code",
   "execution_count": 11,
   "metadata": {},
   "outputs": [],
   "source": [
    "def submissions_form_load(connection, cik:int|str, force=False):\n",
    "    submissions_form = get_submissions_form(cik)\n",
    "\n",
    "    keys = list(submissions_form[0].keys())\n",
    "    values = [ list(d.values()) for d in submissions_form]\n",
    "\n",
    "    cursor = connection.cursor()\n",
    "\n",
    "    if force: cursor.execute(\"DROP TABLE IF EXISTS submissionForm\")\n",
    "    cursor.execute(\"CREATE TABLE IF NOT EXISTS \" + schemasubmissionForm)\n",
    "    cursor.executemany(\n",
    "        f\"\"\"\n",
    "        INSERT OR REPLACE INTO submissionForm ({\",\".join(keys)})\n",
    "        VALUES ({\",\".join(\"?\"*len(keys))})\n",
    "        \"\"\", \n",
    "        values\n",
    "        )\n",
    "\n",
    "    connection.commit()"
   ]
  },
  {
   "cell_type": "code",
   "execution_count": 21,
   "metadata": {},
   "outputs": [],
   "source": [
    "ciks = cursor.execute(\"\"\"\n",
    "    SELECT cik FROM companyInfo\n",
    "    \"\"\").fetchall()\n",
    "\n",
    "ciks = [cik[0] for cik in ciks]\n",
    "ciks = set(ciks)"
   ]
  },
  {
   "cell_type": "code",
   "execution_count": 39,
   "metadata": {},
   "outputs": [
    {
     "data": {
      "text/plain": [
       "{2}"
      ]
     },
     "execution_count": 39,
     "metadata": {},
     "output_type": "execute_result"
    }
   ],
   "source": [
    "{1,2}-{1}"
   ]
  }
 ],
 "metadata": {
  "kernelspec": {
   "display_name": "Python 3",
   "language": "python",
   "name": "python3"
  },
  "language_info": {
   "codemirror_mode": {
    "name": "ipython",
    "version": 3
   },
   "file_extension": ".py",
   "mimetype": "text/x-python",
   "name": "python",
   "nbconvert_exporter": "python",
   "pygments_lexer": "ipython3",
   "version": "3.10.11"
  }
 },
 "nbformat": 4,
 "nbformat_minor": 2
}
