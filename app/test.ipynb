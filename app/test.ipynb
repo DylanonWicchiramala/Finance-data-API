{
 "cells": [
  {
   "cell_type": "code",
   "execution_count": 194,
   "metadata": {},
   "outputs": [],
   "source": [
    "from get_data import scrape_companies_info\n",
    "import sqlite3\n",
    "\n",
    "connection = sqlite3.connect(\"../data/financedata.db\")\n",
    "cursor = connection.cursor()"
   ]
  },
  {
   "cell_type": "code",
   "execution_count": 195,
   "metadata": {},
   "outputs": [
    {
     "data": {
      "text/plain": [
       "sqlite3.Connection"
      ]
     },
     "execution_count": 195,
     "metadata": {},
     "output_type": "execute_result"
    }
   ],
   "source": [
    "type(connection)"
   ]
  },
  {
   "cell_type": "code",
   "execution_count": 177,
   "metadata": {},
   "outputs": [],
   "source": [
    "def tablefilter(connection, table_name:str, filter:dict, columns:list=None, c=\"AND\"):\n",
    "    \"\"\"\n",
    "    Search data in table  by filter and return the result as sql3 cursor.\n",
    "    \n",
    "    :param:\n",
    "        connection: SQL3 connection object\n",
    "        table_name: name of table to search\n",
    "        filter: The filter (in dict) to search for\n",
    "        columns: List of columns to return (default is all columns)\n",
    "        c: condition AND, OR\n",
    "    :return: Dictionary containing company info (return list if have many result) if found, otherwise None\n",
    "    \"\"\"\n",
    "    cursor = connection.cursor()\n",
    "    \n",
    "    filter = list(filter.items())\n",
    "    condition = []\n",
    "    for q, v in filter:\n",
    "        if hasattr(v, '__iter__') and not isinstance(v, str):\n",
    "            condition.append(f\"{q} IN {str(tuple(v))}\")\n",
    "        else:\n",
    "            condition.append(\"{} = '{}'\".format(q, v))\n",
    "            \n",
    "    condition = \" WHERE \" + f\" {c} \".join(condition)    \n",
    "\n",
    "    if columns is None:\n",
    "        res = cursor.execute(\n",
    "            f\"\"\"\n",
    "            SELECT *\n",
    "            FROM {table_name} \n",
    "            \"\"\" + condition\n",
    "            )\n",
    "    else:\n",
    "        res = cursor.execute(\n",
    "            f\"\"\"\n",
    "            SELECT {','.join(columns)} \n",
    "            FROM {table_name} \n",
    "            \"\"\" + condition\n",
    "            )\n",
    "    return res"
   ]
  },
  {
   "cell_type": "code",
   "execution_count": 193,
   "metadata": {},
   "outputs": [
    {
     "data": {
      "text/plain": [
       "[{'cik': 789019}]"
      ]
     },
     "execution_count": 193,
     "metadata": {},
     "output_type": "execute_result"
    }
   ],
   "source": [
    "\n",
    "def company_info_get(connection, filter:dict, columns:list=None, get_first:bool=True):\n",
    "    \"\"\"\n",
    "    Search for company info by filter and return the result as a dictionary.\n",
    "    \n",
    "    :param:\n",
    "        session: SQLAlchemy session object\n",
    "        filter: The filter (in dict) to search for\n",
    "        columns: List of columns to return (default is all columns)\n",
    "        get_first: If True, return only first object\n",
    "    :return: Dictionary containing company info (return list if have many result) if found, otherwise None\n",
    "    \"\"\"\n",
    "    cursor = connection.cursor()\n",
    "    \n",
    "    res = tablefilter(connection, \"companyInfo\", filter, columns)\n",
    "    \n",
    "    if get_first: return dict(zip(columns, res.fetchone()))\n",
    "\n",
    "    else: return [ dict(zip(columns, r)) for r in res.fetchall() ]\n",
    "    \n",
    "\n",
    "company_info_get(connection, {'cik': 789019,},  ['name', 'ticker', 'cik'], False)"
   ]
  },
  {
   "cell_type": "code",
   "execution_count": 179,
   "metadata": {},
   "outputs": [
    {
     "data": {
      "text/plain": [
       "[('MICROSOFT CORP', 'MSFT', 789019),\n",
       " ('NVIDIA CORP', 'NVDA', 1045810),\n",
       " ('Alphabet Inc.', 'GOOGL', 1652044),\n",
       " ('AMAZON COM INC', 'AMZN', 1018724),\n",
       " ('Alphabet Inc.', 'GOOG', 1652044)]"
      ]
     },
     "execution_count": 179,
     "metadata": {},
     "output_type": "execute_result"
    }
   ],
   "source": [
    "_filter = {\n",
    "    'cik': [789019, 1652044],\n",
    "    'ticker': ['AMZN', 'NVDA']\n",
    "}\n",
    "columns = ['name', 'ticker', 'cik']\n",
    "\n",
    "res = tablefilter(connection, \"companyInfo\", _filter, columns, \"OR\")\n",
    "\n",
    "res.fetchall()"
   ]
  },
  {
   "cell_type": "code",
   "execution_count": 130,
   "metadata": {},
   "outputs": [
    {
     "data": {
      "text/plain": [
       "sqlite3.Cursor"
      ]
     },
     "execution_count": 130,
     "metadata": {},
     "output_type": "execute_result"
    }
   ],
   "source": [
    "type(res)"
   ]
  },
  {
   "cell_type": "code",
   "execution_count": 119,
   "metadata": {},
   "outputs": [
    {
     "data": {
      "text/plain": [
       "\" WHERE cik IN (789019, 1652044) AND ticker = 'AMZN'\""
      ]
     },
     "execution_count": 119,
     "metadata": {},
     "output_type": "execute_result"
    }
   ],
   "source": [
    "condition = []\n",
    "for q, v in _filter:\n",
    "    if hasattr(v, '__iter__') and not isinstance(v, str):\n",
    "        condition.append(f\"{q} IN {str(tuple(v))}\")\n",
    "    else:\n",
    "        condition.append(\"{} = '{}'\".format(q, v))\n",
    "        \n",
    "condition = \" WHERE \" + \" OR \".join(condition)    \n",
    "    \n",
    "condition"
   ]
  },
  {
   "cell_type": "code",
   "execution_count": 105,
   "metadata": {},
   "outputs": [
    {
     "data": {
      "text/plain": [
       "' IN (1, 2)'"
      ]
     },
     "execution_count": 105,
     "metadata": {},
     "output_type": "execute_result"
    }
   ],
   "source": [
    "f\" IN {str(tuple([1,2]))}\""
   ]
  },
  {
   "cell_type": "code",
   "execution_count": 65,
   "metadata": {},
   "outputs": [
    {
     "data": {
      "text/plain": [
       "\"cik='1652044' AND ticker='GOOG'\""
      ]
     },
     "execution_count": 65,
     "metadata": {},
     "output_type": "execute_result"
    }
   ],
   "source": [
    "\" AND \".join([\"{}='{}'\".format(*f) for f in _filter])"
   ]
  },
  {
   "cell_type": "code",
   "execution_count": 60,
   "metadata": {},
   "outputs": [
    {
     "data": {
      "text/plain": [
       "[('cik', 1652044), ('ticker', 'GOOG')]"
      ]
     },
     "execution_count": 60,
     "metadata": {},
     "output_type": "execute_result"
    }
   ],
   "source": [
    "_filter"
   ]
  },
  {
   "cell_type": "code",
   "execution_count": 44,
   "metadata": {},
   "outputs": [
    {
     "data": {
      "text/plain": [
       "'SELECT name,ticker,cik  FROM companyInfo WHERE ticker=GOOG'"
      ]
     },
     "execution_count": 44,
     "metadata": {},
     "output_type": "execute_result"
    }
   ],
   "source": [
    "f\"SELECT {','.join(columns)}  FROM companyInfo WHERE {list(_filter.keys())[0]}={list(_filter.values())[0]}\""
   ]
  },
  {
   "cell_type": "code",
   "execution_count": 29,
   "metadata": {},
   "outputs": [
    {
     "data": {
      "text/plain": [
       "'ticker'"
      ]
     },
     "execution_count": 29,
     "metadata": {},
     "output_type": "execute_result"
    }
   ],
   "source": [
    "\"\".join(list(_filter.keys())[0])"
   ]
  }
 ],
 "metadata": {
  "kernelspec": {
   "display_name": "env",
   "language": "python",
   "name": "python3"
  },
  "language_info": {
   "codemirror_mode": {
    "name": "ipython",
    "version": 3
   },
   "file_extension": ".py",
   "mimetype": "text/x-python",
   "name": "python",
   "nbconvert_exporter": "python",
   "pygments_lexer": "ipython3",
   "version": "3.10.11"
  }
 },
 "nbformat": 4,
 "nbformat_minor": 2
}
