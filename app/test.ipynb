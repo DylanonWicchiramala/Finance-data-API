{
 "cells": [
  {
   "cell_type": "code",
   "execution_count": 3,
   "metadata": {},
   "outputs": [],
   "source": [
    "import os\n",
    "import sqlite3\n",
    "\n",
    "\n",
    "# PATH = os.environ.get(\"DATA_PATH\")\n",
    "# PATH = \"var/lib/data\"\n",
    "\n",
    "PATH = './data'\n",
    "\n",
    "DATABASE_PATH = os.path.join(os.path.abspath(PATH), 'financedata.db')\n",
    "\n",
    "connection = sqlite3.connect(DATABASE_PATH, check_same_thread=True)\n",
    "\n",
    "cursor = connection.cursor()"
   ]
  },
  {
   "cell_type": "code",
   "execution_count": 20,
   "metadata": {},
   "outputs": [
    {
     "data": {
      "text/plain": [
       "[('0000950170-24-048288', '2024-04-25', '2024-03-31'),\n",
       " ('0000950170-24-008814', '2024-01-30', '2023-12-31'),\n",
       " ('0000950170-23-054855', '2023-10-24', '2023-09-30'),\n",
       " ('0000950170-23-035122', '2023-07-27', '2023-06-30'),\n",
       " ('0000950170-23-014423', '2023-04-25', '2023-03-31'),\n",
       " ('0001564590-23-000733', '2023-01-24', '2022-12-31'),\n",
       " ('0001564590-22-035087', '2022-10-25', '2022-09-30'),\n",
       " ('0001564590-22-026876', '2022-07-28', '2022-06-30'),\n",
       " ('0001564590-22-015675', '2022-04-26', '2022-03-31'),\n",
       " ('0001564590-22-002324', '2022-01-25', '2021-12-31'),\n",
       " ('0001564590-21-051992', '2021-10-26', '2021-09-30'),\n",
       " ('0001564590-21-039151', '2021-07-29', '2021-06-30'),\n",
       " ('0001564590-21-020891', '2021-04-27', '2021-03-31'),\n",
       " ('0001564590-21-002316', '2021-01-26', '2020-12-31')]"
      ]
     },
     "execution_count": 20,
     "metadata": {},
     "output_type": "execute_result"
    }
   ],
   "source": [
    "ticker = \"MSFT\"\n",
    "\n",
    "cik = cursor.execute(f\"\"\"\n",
    "    SELECT cik FROM companyInfo\n",
    "    WHERE ticker=\"{ticker}\"\n",
    "               \"\"\").fetchone()[0]\n",
    "\n",
    "cursor.execute(f\"\"\"\n",
    "    SELECT accession_number, filing_date, report_date FROM submissionForm\n",
    "    WHERE cik={cik}\n",
    "               \"\"\").fetchmany(100)"
   ]
  }
 ],
 "metadata": {
  "kernelspec": {
   "display_name": "Python 3",
   "language": "python",
   "name": "python3"
  },
  "language_info": {
   "codemirror_mode": {
    "name": "ipython",
    "version": 3
   },
   "file_extension": ".py",
   "mimetype": "text/x-python",
   "name": "python",
   "nbconvert_exporter": "python",
   "pygments_lexer": "ipython3",
   "version": "3.10.11"
  }
 },
 "nbformat": 4,
 "nbformat_minor": 2
}
