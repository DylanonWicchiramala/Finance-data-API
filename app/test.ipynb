{
 "cells": [
  {
   "cell_type": "code",
   "execution_count": 2,
   "metadata": {},
   "outputs": [],
   "source": [
    "from typing import Any\n",
    "import requests\n",
    "import json\n",
    "from ratelimit import limits, sleep_and_retry\n",
    "import pandas as pd\n",
    "from datetime import datetime\n",
    "import requests\n",
    "import json\n",
    "\n",
    "# @sleep_and_retry\n",
    "@limits(calls=10, period=1.05)\n",
    "def request_get(url, *args,**kwargs):\n",
    "    headers = {'User-agent': 'Mozilla/5.0'}\n",
    "    return requests.get(url, headers = headers, *args, **kwargs)"
   ]
  },
  {
   "cell_type": "code",
   "execution_count": 3,
   "metadata": {},
   "outputs": [],
   "source": [
    "def convert_to_list_dict(dict_of_lists:dict[str: list[Any]]) -> list[dict[str: Any]]:\n",
    "    # Get all the keys from the dictionary\n",
    "    keys = list(dict_of_lists.keys())\n",
    "    \n",
    "    # Use zip to combine corresponding elements from all lists\n",
    "    zipped_values = zip(*[dict_of_lists[key] for key in keys])\n",
    "    \n",
    "    # Convert the zipped values to a list of dictionaries\n",
    "    result = [dict(zip(keys, values)) for values in zipped_values]\n",
    "    \n",
    "    return result"
   ]
  },
  {
   "cell_type": "code",
   "execution_count": 4,
   "metadata": {},
   "outputs": [],
   "source": [
    "def submissions_form_transform(submissions_form:list[dict[str: Any]]) -> list[dict[str: Any]]:\n",
    "    for i in range(len(submissions_form)):\n",
    "        submissions_form[i] = {\n",
    "            'accession_number': submissions_form[i]['accessionNumber'],\n",
    "            'cik': submissions_form[i]['cik'],\n",
    "            'filing_date': submissions_form[i]['filingDate'],\n",
    "            'report_date': submissions_form[i]['reportDate'],\n",
    "            'acceptance_date_time': submissions_form[i]['acceptanceDateTime'],\n",
    "            'act': submissions_form[i]['act'],\n",
    "            'form': submissions_form[i]['form'],\n",
    "            'file_number': submissions_form[i]['fileNumber'],\n",
    "            'film_number': submissions_form[i]['filmNumber'],\n",
    "            'items': submissions_form[i]['items'],\n",
    "            'size': submissions_form[i]['size'],\n",
    "            'is_xbrl': submissions_form[i]['isXBRL'],\n",
    "            'is_inline_xbrl': submissions_form[i]['isInlineXBRL'],\n",
    "            'primary_docment': submissions_form[i]['primaryDocument'],\n",
    "            'primary_doc_description': submissions_form[i]['primaryDocDescription']\n",
    "        }\n",
    "    return submissions_form    \n",
    "\n",
    "\n",
    "def get_submissions_form(\n",
    "        cik:str|int, \n",
    "        get_older_files:bool|int=False, \n",
    "        save_path:str=None) -> dict[str, list]:\n",
    "    \"\"\" get document summissions for the ticker from https://data.sec.gov/submissions\n",
    "    parameters:\n",
    "        cik: str\n",
    "        get_older_files: bool\n",
    "            getting olders submissions that older than 5 years old.\n",
    "    \"\"\"    \n",
    "    def __concat_submission(dict1, dict2):\n",
    "        out_dict = {}\n",
    "        \n",
    "        #concat dict\n",
    "        for key in dict2.keys():\n",
    "            # Concatenate the lists if the key is present in both dictionaries\n",
    "            out_dict[key] = dict1.get(key, []) + dict2.get(key, [])\n",
    "            \n",
    "        return out_dict\n",
    "    \n",
    "    def __get_submission_meta(cik:str|int) -> dict[str, list]:\n",
    "        \"\"\" returns dictionary of submission metadata.\n",
    "        \"\"\"\n",
    "        \n",
    "        cik = str(cik).zfill(10)\n",
    "\n",
    "        # get the metadata of the submissions.\n",
    "        meta = request_get(base_url + f\"CIK{cik}.json\").json()\n",
    "        \n",
    "        return meta\n",
    "    \n",
    "    base_url = \"https://data.sec.gov/submissions/\"\n",
    "    \n",
    "    filings = __get_submission_meta(cik=cik)['filings']\n",
    "    submissions = {}\n",
    "\n",
    "    # get the recent submission files.\n",
    "    submissions = filings['recent']\n",
    "\n",
    "    # get the older submission files.\n",
    "    if 'files' in filings.keys() and get_older_files:\n",
    "        older_file_meta = filings['files']\n",
    "        for i in range(len(older_file_meta)):\n",
    "            sub = request_get(base_url + older_file_meta['name']).json()\n",
    "            submissions = __concat_submission(submissions, sub)\n",
    "            \n",
    "    sub_df = pd.DataFrame(submissions)\n",
    "    \n",
    "    # filter the form submission.\n",
    "    sub_df = dict(sub_df[sub_df['form'].isin(['10-Q', '10-K', '10-K/A', '10-Q/A'])])\n",
    "\n",
    "    submissions = dict(sub_df)\n",
    "    \n",
    "    # casting panda series to list\n",
    "    submissions = {k:list(v) for k,v in submissions.items()}\n",
    "    \n",
    "    # adding cik\n",
    "    submissions['cik'] = [int(cik)]* len(sub_df)\n",
    "\n",
    "    #save to cache json data\n",
    "    if save_path is not None:\n",
    "        with open(save_path, 'w') as json_file:\n",
    "            json.dump(submissions, json_file, indent=4)\n",
    "    \n",
    "    submissions = convert_to_list_dict(submissions)\n",
    "    submissions = submissions_form_transform(submissions)\n",
    "    \n",
    "    return submissions"
   ]
  },
  {
   "cell_type": "code",
   "execution_count": 6,
   "metadata": {},
   "outputs": [],
   "source": [
    "import os\n",
    "import sqlite3\n",
    "\n",
    "connection = sqlite3.connect('test.db')\n",
    "cursor = connection.cursor()"
   ]
  },
  {
   "cell_type": "code",
   "execution_count": 7,
   "metadata": {},
   "outputs": [],
   "source": [
    "schemasubmissionForm = \"\"\"submissionForm(\n",
    "  accession_number INT(15) PRIMARY KEY NOT NULL,\n",
    "  cik INT(10),\n",
    "  filing_date DATE,\n",
    "  report_date DATE,\n",
    "  acceptance_date_time DATETIME,\n",
    "  act STRING,\n",
    "  form STRING,\n",
    "  file_number STRING,\n",
    "  film_number STRING,\n",
    "  items INT,\n",
    "  size INT,\n",
    "  is_xbrl INT,\n",
    "  is_inline_xbrl INT,\n",
    "  primary_docment STRING,\n",
    "  primary_doc_description STRING\n",
    ")\"\"\""
   ]
  },
  {
   "cell_type": "code",
   "execution_count": 79,
   "metadata": {},
   "outputs": [],
   "source": [
    "def submissions_form_load(connection, cik:int|str):\n",
    "    submissions_form = get_submissions_form(cik)\n",
    "    \n",
    "    # if not have submission form.\n",
    "    if len(submissions_form)==0:\n",
    "        print(\"No submissions from of CIK{}\".format(cik))\n",
    "        return\n",
    "\n",
    "    keys = list(submissions_form[0].keys())\n",
    "    values = [ list(d.values()) for d in submissions_form]\n",
    "\n",
    "    cursor = connection.cursor()\n",
    "    \n",
    "    cursor.execute(\"\"\"CREATE TABLE IF NOT EXISTS latestFormUpdate(\n",
    "        cik INT(10) PRIMARY KEY,\n",
    "        timestamp FLOAT\n",
    "        )\"\"\")\n",
    "\n",
    "    cursor.execute(\"CREATE TABLE IF NOT EXISTS \" + schemasubmissionForm)\n",
    "    cursor.executemany(\n",
    "        f\"\"\"\n",
    "        INSERT OR REPLACE INTO submissionForm ({\",\".join(keys)})\n",
    "        VALUES ({\",\".join(\"?\"*len(keys))})\n",
    "        \"\"\",    \n",
    "        values\n",
    "        )\n",
    "    cursor.execute(f\"\"\"\n",
    "        INSERT OR REPLACE INTO latestFormUpdate (cik, timestamp)\n",
    "        VALUES ({cik},{datetime.today().timestamp()})\n",
    "        \"\"\")\n",
    "        \n",
    "\n",
    "    print(\"Submissions from of CIK{} was loaded into a database.\".format(cik))\n",
    "    connection.commit()"
   ]
  },
  {
   "cell_type": "code",
   "execution_count": 80,
   "metadata": {},
   "outputs": [
    {
     "name": "stdout",
     "output_type": "stream",
     "text": [
      "Submissions from of CIK1045810 was loaded into a database.\n"
     ]
    }
   ],
   "source": [
    "submissions_form_load(connection, cik=1045810)"
   ]
  },
  {
   "cell_type": "code",
   "execution_count": 112,
   "metadata": {},
   "outputs": [],
   "source": [
    "from datetime import datetime\n",
    "\n",
    "\n",
    "cik = 1045810\n",
    "n_days = 30\n",
    "\n",
    "def lazy_\n",
    "    latest_form_update = cursor.execute(f\"\"\"\n",
    "        SELECT timestamp FROM latestFormUpdate \n",
    "        WHERE cik={int(cik)}\n",
    "        \"\"\").fetchone()[0]\n",
    "\n",
    "    dalta_days = (datetime.today().timestamp() - latest_form_update)/86400\n",
    "\n",
    "    if delta_days > n_days:\n",
    "        submissions_form_load(connection=connection, cik=cik)"
   ]
  },
  {
   "cell_type": "code",
   "execution_count": 86,
   "metadata": {},
   "outputs": [
    {
     "data": {
      "text/plain": [
       "1718348589.549019"
      ]
     },
     "execution_count": 86,
     "metadata": {},
     "output_type": "execute_result"
    }
   ],
   "source": [
    "latest_form_update"
   ]
  },
  {
   "cell_type": "code",
   "execution_count": 34,
   "metadata": {},
   "outputs": [
    {
     "data": {
      "text/plain": [
       "'2024-05-29'"
      ]
     },
     "execution_count": 34,
     "metadata": {},
     "output_type": "execute_result"
    }
   ],
   "source": [
    "latest_filing_date"
   ]
  },
  {
   "cell_type": "code",
   "execution_count": 93,
   "metadata": {},
   "outputs": [
    {
     "data": {
      "text/plain": [
       "datetime.datetime(2024, 6, 14, 14, 3, 9, 549019)"
      ]
     },
     "execution_count": 93,
     "metadata": {},
     "output_type": "execute_result"
    }
   ],
   "source": []
  },
  {
   "cell_type": "code",
   "execution_count": 108,
   "metadata": {},
   "outputs": [
    {
     "data": {
      "text/plain": [
       "78"
      ]
     },
     "execution_count": 108,
     "metadata": {},
     "output_type": "execute_result"
    }
   ],
   "source": [
    "delta = datetime(2024,9,1) - datetime.fromtimestamp(latest_form_update)\n",
    "delta_days = delta.days\n",
    "delta_days"
   ]
  },
  {
   "cell_type": "code",
   "execution_count": 111,
   "metadata": {},
   "outputs": [
    {
     "data": {
      "text/plain": [
       "78.41447281227896"
      ]
     },
     "execution_count": 111,
     "metadata": {},
     "output_type": "execute_result"
    }
   ],
   "source": [
    "dalta_days = (datetime(2024,9,1).timestamp() - latest_form_update)/86400\n",
    "dalta_days"
   ]
  },
  {
   "cell_type": "code",
   "execution_count": 116,
   "metadata": {},
   "outputs": [
    {
     "data": {
      "text/plain": [
       "True"
      ]
     },
     "execution_count": 116,
     "metadata": {},
     "output_type": "execute_result"
    }
   ],
   "source": [
    "cursor.execute(f\"\"\"\n",
    "            SELECT timestamp FROM latestFormUpdate \n",
    "            WHERE cik={int(23)}\n",
    "            \"\"\").fetchone() is None"
   ]
  }
 ],
 "metadata": {
  "kernelspec": {
   "display_name": "Python 3",
   "language": "python",
   "name": "python3"
  },
  "language_info": {
   "codemirror_mode": {
    "name": "ipython",
    "version": 3
   },
   "file_extension": ".py",
   "mimetype": "text/x-python",
   "name": "python",
   "nbconvert_exporter": "python",
   "pygments_lexer": "ipython3",
   "version": "3.10.11"
  }
 },
 "nbformat": 4,
 "nbformat_minor": 2
}
