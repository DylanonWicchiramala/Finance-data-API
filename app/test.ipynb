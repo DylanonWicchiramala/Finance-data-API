{
 "cells": [
  {
   "cell_type": "code",
   "execution_count": null,
   "metadata": {},
   "outputs": [],
   "source": [
    "from get_data import scrape_companies_info\n",
    "# from pyspark.sql import SparkSession\n",
    "# from pyspark.sql.types import StructType, StructField, StringType, IntegerType, FloatType\n",
    "import pandas as pd"
   ]
  },
  {
   "cell_type": "code",
   "execution_count": null,
   "metadata": {},
   "outputs": [],
   "source": [
    "# company_info = StructType([\n",
    "#     StructField(\"cik\", IntegerType(), nullable=False),\n",
    "#     StructField(\"cik_str\", StringType(), nullable=False),\n",
    "#     StructField(\"ticker\", StringType(), nullable=False),\n",
    "#     StructField(\"name\", StringType()),\n",
    "#     StructField(\"sector\", StringType()),\n",
    "#     StructField(\"industry\", StringType())\n",
    "# ])"
   ]
  },
  {
   "cell_type": "code",
   "execution_count": null,
   "metadata": {},
   "outputs": [],
   "source": [
    "ciks = scrape_companies_info.get_ciks()"
   ]
  },
  {
   "cell_type": "code",
   "execution_count": null,
   "metadata": {},
   "outputs": [],
   "source": [
    "# # Create a SparkSession\n",
    "# spark = SparkSession.builder.appName(\"DictToDataFrame\").getOrCreate()\n",
    "\n",
    "# # Sample dictionary data\n",
    "# data = {'0': {'cik': 789019, 'cik_str': '0000789019', 'ticker': 'MSFT', 'name': 'MICROSOFT CORP'},\n",
    "#         '1': {'cik': 320193, 'cik_str': '0000320193', 'ticker': 'AAPL', 'name': 'Apple Inc.'}}\n",
    "\n",
    "# # Function to convert a dictionary value to a row\n",
    "# def create_row(value):\n",
    "#   return (value['cik'], value['cik_str'], value['ticker'], value['name'])\n",
    "\n",
    "# # Create a list of rows\n",
    "# rows = [create_row(value) for _, value in data.items()]\n",
    "\n",
    "# # Create a DataFrame from the list of rows\n",
    "# df = spark.createDataFrame(rows, [\"cik\", \"cik_str\", \"ticker\", \"name\"])\n",
    "\n",
    "# df.show(n=10)"
   ]
  },
  {
   "cell_type": "code",
   "execution_count": 9,
   "metadata": {},
   "outputs": [],
   "source": [
    "def company_info_update():\n",
    "    path = \"../data/finance_data/company_info.csv\"\n",
    "\n",
    "    df = pd.DataFrame(ciks).T\n",
    "    df = df.set_index(\"cik\")\n",
    "    df.to_csv(path)"
   ]
  },
  {
   "cell_type": "code",
   "execution_count": 30,
   "metadata": {},
   "outputs": [
    {
     "data": {
      "text/html": [
       "<div>\n",
       "<style scoped>\n",
       "    .dataframe tbody tr th:only-of-type {\n",
       "        vertical-align: middle;\n",
       "    }\n",
       "\n",
       "    .dataframe tbody tr th {\n",
       "        vertical-align: top;\n",
       "    }\n",
       "\n",
       "    .dataframe thead th {\n",
       "        text-align: right;\n",
       "    }\n",
       "</style>\n",
       "<table border=\"1\" class=\"dataframe\">\n",
       "  <thead>\n",
       "    <tr style=\"text-align: right;\">\n",
       "      <th></th>\n",
       "      <th>ticker</th>\n",
       "    </tr>\n",
       "    <tr>\n",
       "      <th>cik</th>\n",
       "      <th></th>\n",
       "    </tr>\n",
       "  </thead>\n",
       "  <tbody>\n",
       "    <tr>\n",
       "      <th>789019</th>\n",
       "      <td>MSFT</td>\n",
       "    </tr>\n",
       "    <tr>\n",
       "      <th>320193</th>\n",
       "      <td>AAPL</td>\n",
       "    </tr>\n",
       "    <tr>\n",
       "      <th>1045810</th>\n",
       "      <td>NVDA</td>\n",
       "    </tr>\n",
       "    <tr>\n",
       "      <th>1652044</th>\n",
       "      <td>GOOGL</td>\n",
       "    </tr>\n",
       "    <tr>\n",
       "      <th>1018724</th>\n",
       "      <td>AMZN</td>\n",
       "    </tr>\n",
       "    <tr>\n",
       "      <th>...</th>\n",
       "      <td>...</td>\n",
       "    </tr>\n",
       "    <tr>\n",
       "      <th>1838163</th>\n",
       "      <td>BNAIW</td>\n",
       "    </tr>\n",
       "    <tr>\n",
       "      <th>1903392</th>\n",
       "      <td>CLRCR</td>\n",
       "    </tr>\n",
       "    <tr>\n",
       "      <th>1903392</th>\n",
       "      <td>CLRCU</td>\n",
       "    </tr>\n",
       "    <tr>\n",
       "      <th>1903392</th>\n",
       "      <td>CLRCW</td>\n",
       "    </tr>\n",
       "    <tr>\n",
       "      <th>1298946</th>\n",
       "      <td>DRH-PA</td>\n",
       "    </tr>\n",
       "  </tbody>\n",
       "</table>\n",
       "<p>10288 rows × 1 columns</p>\n",
       "</div>"
      ],
      "text/plain": [
       "         ticker\n",
       "cik            \n",
       "789019     MSFT\n",
       "320193     AAPL\n",
       "1045810    NVDA\n",
       "1652044   GOOGL\n",
       "1018724    AMZN\n",
       "...         ...\n",
       "1838163   BNAIW\n",
       "1903392   CLRCR\n",
       "1903392   CLRCU\n",
       "1903392   CLRCW\n",
       "1298946  DRH-PA\n",
       "\n",
       "[10288 rows x 1 columns]"
      ]
     },
     "execution_count": 30,
     "metadata": {},
     "output_type": "execute_result"
    }
   ],
   "source": [
    "df.filter({\"ticker\":\"AAPL\"})"
   ]
  },
  {
   "cell_type": "code",
   "execution_count": null,
   "metadata": {},
   "outputs": [],
   "source": [
    "def company_info_get(df, filter:dict, columns:list=None, get_first:bool=True):\n",
    "    \n",
    "    "
   ]
  },
  {
   "cell_type": "code",
   "execution_count": 25,
   "metadata": {},
   "outputs": [
    {
     "data": {
      "text/plain": [
       "Index([ 789019,  320193, 1045810, 1652044, 1018724, 1326801, 1067983, 1046179,\n",
       "         59478, 1730168,\n",
       "       ...\n",
       "       1764046, 1851182, 1851182,  886982, 1532619, 1838163, 1903392, 1903392,\n",
       "       1903392, 1298946],\n",
       "      dtype='object', name='cik', length=10288)"
      ]
     },
     "execution_count": 25,
     "metadata": {},
     "output_type": "execute_result"
    }
   ],
   "source": [
    "df.iloc[:].index"
   ]
  },
  {
   "cell_type": "code",
   "execution_count": null,
   "metadata": {},
   "outputs": [],
   "source": [
    "def company_info_get(session, filter:dict, columns:list=None, get_first:bool=True):\n",
    "    \"\"\"\n",
    "    Search for company info by filter and return the result as a dictionary.\n",
    "    \n",
    "    :param:\n",
    "        session: SQLAlchemy session object\n",
    "        filter: The filter (in dict) to search for\n",
    "        columns: List of columns to return (default is all columns)\n",
    "        get_first: If True, return only first object\n",
    "    :return: Dictionary containing company info (return list if have many result) if found, otherwise None\n",
    "    \"\"\"\n",
    "    query = session.query(CompanyInfo).filter_by(**filter)\n",
    "    \n",
    "    if columns:\n",
    "        orm_columns = [getattr(CompanyInfo, column) for column in columns]\n",
    "        query = query.options(load_only(*orm_columns))\n",
    "        \n",
    "    companies = query.all()\n",
    "    \n",
    "    # Close the session\n",
    "    session.close()\n",
    "    \n",
    "    if len(companies)==1:\n",
    "        return companies[0].__dict__\n",
    "    elif companies:\n",
    "        if get_first:\n",
    "            return companies[0].__dict__\n",
    "        return [ company.__dict__ for company in companies ]\n",
    "    else:\n",
    "        return None"
   ]
  }
 ],
 "metadata": {
  "kernelspec": {
   "display_name": "env",
   "language": "python",
   "name": "python3"
  },
  "language_info": {
   "codemirror_mode": {
    "name": "ipython",
    "version": 3
   },
   "file_extension": ".py",
   "mimetype": "text/x-python",
   "name": "python",
   "nbconvert_exporter": "python",
   "pygments_lexer": "ipython3",
   "version": "3.10.11"
  }
 },
 "nbformat": 4,
 "nbformat_minor": 2
}
