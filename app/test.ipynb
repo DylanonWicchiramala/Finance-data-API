{
 "cells": [
  {
   "cell_type": "code",
   "execution_count": 8,
   "metadata": {},
   "outputs": [],
   "source": [
    "import sys\n",
    "sys.path.append('app')"
   ]
  },
  {
   "cell_type": "code",
   "execution_count": 9,
   "metadata": {},
   "outputs": [],
   "source": [
    "import os\n",
    "import sqlite3\n",
    "from database.crud import __tablefilter\n",
    "\n",
    "# PATH = os.environ.get(\"DATA_PATH\")\n",
    "# PATH = \"var/lib/data\"\n",
    "\n",
    "PATH = './data'\n",
    "\n",
    "DATABASE_PATH = os.path.join(os.path.abspath(PATH), 'financedata.db')\n",
    "\n",
    "connection = sqlite3.connect(DATABASE_PATH, check_same_thread=True)\n",
    "\n",
    "cursor = connection.cursor()"
   ]
  },
  {
   "cell_type": "code",
   "execution_count": 10,
   "metadata": {},
   "outputs": [],
   "source": [
    "from datetime import datetime \n",
    "\n",
    "def submissions_form_get(connection, filter:dict, columns:list=None, date_from:str=None, date_to:str=None, item_limit:int=1000) -> list[dict]:\n",
    "    \"\"\"\n",
    "    Search for company filing by filter and return the result as a list of dictionary.\n",
    "    \n",
    "    :param:\n",
    "        connection: sqlite connection object\n",
    "        filter: The filter (in dict) to search for\n",
    "        columns: List of columns to return (default is all columns)\n",
    "        date_from: filter date from \n",
    "        date_to: filterr date to\n",
    "    :return: Dictionary containing company info (return list if have many result) if found, otherwise None\n",
    "    \"\"\"\n",
    "    cursor = connection.cursor()\n",
    "    \n",
    "    filter = {} if filter is None else list(filter.items())\n",
    "    \n",
    "    condition = []\n",
    "    if filter is not None or len(filter) != 0:\n",
    "        for q, v in filter:\n",
    "            if v is not None:\n",
    "                if hasattr(v, '__iter__') and not isinstance(v, str):\n",
    "                    condition.append(f\"{q} IN {str(tuple(v))}\")\n",
    "                else:\n",
    "                    condition.append(\"{} = \\\"{}\\\"\".format(q, v))\n",
    "                \n",
    "        condition = f\" AND \".join(condition)    \n",
    "    \n",
    "        \n",
    "    date_from = datetime.strftime(datetime.strptime(date_from, \"%Y-%m-%d\"), \"%Y-%m-%d\") if date_from is not None else None\n",
    "    date_to = datetime.strftime(datetime.strptime(date_to, \"%Y-%m-%d\"), \"%Y-%m-%d\") if date_to is not None else None\n",
    "    \n",
    "    if date_from is not None:\n",
    "        datefrom_cont = f\"date(filing_date) > date(\\\"{date_from}\\\")\"\n",
    "        condition = condition + f\" AND {datefrom_cont}\" if len(condition) > 0 else datefrom_cont\n",
    "    if date_to is not None:\n",
    "        dateto_cont = f\"date(filing_date) < date(\\\"{date_to}\\\")\"\n",
    "        condition = condition + f\" AND {dateto_cont}\" if len(condition) > 0 else dateto_cont\n",
    "        \n",
    "    if len(condition) == 0:\n",
    "        condition = \"TRUE\"\n",
    "\n",
    "    column = \"\"\"\n",
    "        ticker, companyInfo.cik, primary_doc_description, primary_docment,\n",
    "        accession_number, filing_date, report_date, acceptance_date_time, \n",
    "        index_url, primary_docment_url, act, form\n",
    "        \"\"\" if columns is None else ','.join(columns)\n",
    "    \n",
    "    query = f\"\"\"\n",
    "        SELECT {column}\n",
    "        FROM submissionForm INNER JOIN companyInfo ON submissionForm.cik = companyInfo.cik\n",
    "        WHERE {condition}\n",
    "        \"\"\"\n",
    "    \n",
    "    print(query)\n",
    "    \n",
    "    q_res = cursor.execute(query)\n",
    "    data = q_res.fetchmany(item_limit)\n",
    "    \n",
    "    columns = [ col[0] for col in q_res.description]\n",
    "    \n",
    "    if len(data) == 0:\n",
    "        return None\n",
    "    \n",
    "    datadict = [ dict(zip(columns, r)) for r in data ]\n",
    "    return datadict\n",
    "\n",
    "# submissions_form_get(\n",
    "#     connection, \n",
    "#     filter={\n",
    "#         \"ticker\": None,\n",
    "#         \"cik\": None,\n",
    "#         \"accession_number\": None,\n",
    "#         \"act\": None,\n",
    "#         \"form\": [\"10-Q\", \"10-K\"] ,\n",
    "#     }, \n",
    "#     columns=None, \n",
    "#     date_from=None, \n",
    "#     date_to=None, \n",
    "#     item_limit=1000\n",
    "#     )"
   ]
  },
  {
   "cell_type": "code",
   "execution_count": 17,
   "metadata": {},
   "outputs": [
    {
     "data": {
      "text/plain": [
       "[('HFRO', 'HIGHLAND OPPORTUNITIES & INCOME FUND', 'investment'),\n",
       " ('EAD', 'ALLSPRING INCOME OPPORTUNITIES FUND', 'investment'),\n",
       " ('KTF', 'DWS MUNICIPAL INCOME TRUST', 'investment'),\n",
       " ('ERC', 'ALLSPRING MULTI-SECTOR INCOME FUND', 'investment'),\n",
       " ('HGLB', 'HIGHLAND GLOBAL ALLOCATION FUND', 'investment'),\n",
       " ('FMN', 'Federated Hermes Premier Municipal Income Fund', 'investment'),\n",
       " ('VFL', 'abrdn National Municipal Income Fund', 'investment'),\n",
       " ('KSM', 'DWS STRATEGIC MUNICIPAL INCOME TRUST', 'investment'),\n",
       " ('ERH', 'ALLSPRING UTILITIES & HIGH INCOME FUND', 'investment'),\n",
       " ('SELF', 'Global Self Storage, Inc.', 'investment'),\n",
       " ('FXBY', 'FOXBY CORP.', 'investment'),\n",
       " ('HFRO-PA', 'HIGHLAND OPPORTUNITIES & INCOME FUND', 'investment')]"
      ]
     },
     "execution_count": 17,
     "metadata": {},
     "output_type": "execute_result"
    }
   ],
   "source": [
    "query = f\"\"\"\n",
    "    SELECT ticker, name, entity_type\n",
    "    FROM companyInfo\n",
    "    WHERE entity_type != \"operating\" AND entity_type != \"other\"\n",
    "    \"\"\"\n",
    "    \n",
    "q_res = cursor.execute(query)\n",
    "q_res.fetchmany(500)"
   ]
  }
 ],
 "metadata": {
  "kernelspec": {
   "display_name": "Python 3",
   "language": "python",
   "name": "python3"
  },
  "language_info": {
   "codemirror_mode": {
    "name": "ipython",
    "version": 3
   },
   "file_extension": ".py",
   "mimetype": "text/x-python",
   "name": "python",
   "nbconvert_exporter": "python",
   "pygments_lexer": "ipython3",
   "version": "3.10.11"
  }
 },
 "nbformat": 4,
 "nbformat_minor": 2
}
