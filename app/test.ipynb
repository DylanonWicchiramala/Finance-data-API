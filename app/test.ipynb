{
 "cells": [
  {
   "cell_type": "code",
   "execution_count": 4,
   "metadata": {},
   "outputs": [],
   "source": [
    "import os\n",
    "import sqlite3\n",
    "\n",
    "\n",
    "# PATH = os.environ.get(\"DATA_PATH\")\n",
    "# PATH = \"var/lib/data\"\n",
    "\n",
    "PATH = './data'\n",
    "\n",
    "DATABASE_PATH = os.path.join(os.path.abspath(PATH), 'financedata.db')\n",
    "\n",
    "connection = sqlite3.connect(DATABASE_PATH, check_same_thread=True)\n",
    "\n",
    "cursor = connection.cursor()"
   ]
  },
  {
   "cell_type": "code",
   "execution_count": 5,
   "metadata": {},
   "outputs": [
    {
     "data": {
      "text/plain": [
       "[(320193,\n",
       "  'AAPL',\n",
       "  'Apple Inc.',\n",
       "  'operating',\n",
       "  3571,\n",
       "  'Electronic Computers',\n",
       "  'Nasdaq',\n",
       "  '',\n",
       "  '',\n",
       "  'Large accelerated filer',\n",
       "  '',\n",
       "  928,\n",
       "  'CA')]"
      ]
     },
     "execution_count": 5,
     "metadata": {},
     "output_type": "execute_result"
    }
   ],
   "source": [
    "ticker = \"MSFT\"\n",
    "\n",
    "cik = cursor.execute(f\"\"\"\n",
    "    SELECT * FROM companyInfo\n",
    "    WHERE cik=320193\n",
    "               \"\"\").fetchall()\n",
    "\n",
    "cik"
   ]
  },
  {
   "cell_type": "code",
   "execution_count": 15,
   "metadata": {},
   "outputs": [
    {
     "data": {
      "text/plain": [
       "(('cik', None, None, None, None, None, None),)"
      ]
     },
     "execution_count": 15,
     "metadata": {},
     "output_type": "execute_result"
    }
   ],
   "source": [
    "cursor.execute(f\"\"\"\n",
    "    SELECT cik FROM companyInfo\n",
    "    WHERE ticker=\"MSFT\"\n",
    "               \"\"\").description"
   ]
  },
  {
   "cell_type": "code",
   "execution_count": 9,
   "metadata": {},
   "outputs": [
    {
     "data": {
      "text/plain": [
       "[('0000851968-24-000082',\n",
       "  851968,\n",
       "  '2024-04-26',\n",
       "  '2024-03-30',\n",
       "  '2024-04-26T12:08:53.000Z',\n",
       "  34,\n",
       "  '10-Q',\n",
       "  '001-13697',\n",
       "  24880651,\n",
       "  '',\n",
       "  8430169,\n",
       "  1,\n",
       "  1,\n",
       "  'mhk-20240330.htm',\n",
       "  '10-Q'),\n",
       " ('0000851968-24-000027',\n",
       "  851968,\n",
       "  '2024-02-23',\n",
       "  '2023-12-31',\n",
       "  '2024-02-23T17:16:41.000Z',\n",
       "  34,\n",
       "  '10-K',\n",
       "  '001-13697',\n",
       "  24672610,\n",
       "  '',\n",
       "  14837980,\n",
       "  1,\n",
       "  1,\n",
       "  'mhk-20231231.htm',\n",
       "  '10-K')]"
      ]
     },
     "execution_count": 9,
     "metadata": {},
     "output_type": "execute_result"
    }
   ],
   "source": [
    "cursor.execute(f\"\"\"\n",
    "    SELECT * FROM submissionForm\n",
    "               \"\"\").fetchmany(2)\n"
   ]
  }
 ],
 "metadata": {
  "kernelspec": {
   "display_name": "Python 3",
   "language": "python",
   "name": "python3"
  },
  "language_info": {
   "codemirror_mode": {
    "name": "ipython",
    "version": 3
   },
   "file_extension": ".py",
   "mimetype": "text/x-python",
   "name": "python",
   "nbconvert_exporter": "python",
   "pygments_lexer": "ipython3",
   "version": "3.10.11"
  }
 },
 "nbformat": 4,
 "nbformat_minor": 2
}
